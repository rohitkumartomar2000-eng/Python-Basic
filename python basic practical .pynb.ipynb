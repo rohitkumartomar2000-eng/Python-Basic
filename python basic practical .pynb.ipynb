{
 "cells": [
  {
   "cell_type": "code",
   "execution_count": 1,
   "id": "89238272-8bd3-4ef4-b0e8-847fe55ea12e",
   "metadata": {},
   "outputs": [
    {
     "name": "stdout",
     "output_type": "stream",
     "text": [
      "hello, World!\n"
     ]
    }
   ],
   "source": [
    "# Q1  Write a Python program to print \"Hello, World!\n",
    "\n",
    "print(\"hello, World!\")"
   ]
  },
  {
   "cell_type": "code",
   "execution_count": 2,
   "id": "3a1d430e-2aa9-4271-bc33-9340fae61ce0",
   "metadata": {},
   "outputs": [
    {
     "name": "stdout",
     "output_type": "stream",
     "text": [
      "rohit\n",
      "24\n"
     ]
    }
   ],
   "source": [
    "# Q2 Write a Python program that displays your name and age\n",
    "\n",
    "name = \"rohit\"\n",
    "age = 24\n",
    "print(name)\n",
    "print(age)"
   ]
  },
  {
   "cell_type": "code",
   "execution_count": 6,
   "id": "d09b9d2d-e6d2-4830-86cf-4ba076a8a21d",
   "metadata": {},
   "outputs": [
    {
     "name": "stdout",
     "output_type": "stream",
     "text": [
      "All predefined Python keywords:\n",
      "False\n",
      "None\n",
      "True\n",
      "and\n",
      "as\n",
      "assert\n",
      "async\n",
      "await\n",
      "break\n",
      "class\n",
      "continue\n",
      "def\n",
      "del\n",
      "elif\n",
      "else\n",
      "except\n",
      "finally\n",
      "for\n",
      "from\n",
      "global\n",
      "if\n",
      "import\n",
      "in\n",
      "is\n",
      "lambda\n",
      "nonlocal\n",
      "not\n",
      "or\n",
      "pass\n",
      "raise\n",
      "return\n",
      "try\n",
      "while\n",
      "with\n",
      "yield\n"
     ]
    }
   ],
   "source": [
    "# Q3  Write code to print all the pre-defined keywords in Python using the keyword library\n",
    "import keyword\n",
    "keywords = keyword.kwlist\n",
    "\n",
    "print(\"All predefined Python keywords:\")\n",
    "for kw in keywords:\n",
    "    print(kw)"
   ]
  },
  {
   "cell_type": "code",
   "execution_count": 8,
   "id": "a9c84c02-7ff0-4a6e-b57e-8c51108d07f0",
   "metadata": {},
   "outputs": [
    {
     "name": "stdin",
     "output_type": "stream",
     "text": [
      "Enter a word:  is\n"
     ]
    },
    {
     "name": "stdout",
     "output_type": "stream",
     "text": [
      "'is' is a Python keyword.\n"
     ]
    }
   ],
   "source": [
    " # Q4 Write a program that checks if a given word is a Python keyword.\n",
    "import keyword\n",
    "word = input(\"Enter a word: \")\n",
    "if keyword.iskeyword(word): # Check if the word is a keyword\n",
    "    print(f\"'{word}' is a Python keyword.\")\n",
    "else:\n",
    "    print(f\"'{word}' is NOT a Python keyword.\")"
   ]
  },
  {
   "cell_type": "code",
   "execution_count": 14,
   "id": "b86e60b7-a70d-4b3e-ac8f-99840581c552",
   "metadata": {},
   "outputs": [
    {
     "name": "stdout",
     "output_type": "stream",
     "text": [
      "Original List: [10, 20, 30]\n",
      "Original Tuple: (10, 20, 30)\n",
      "After changing second element in list: [10, 200, 30]\n"
     ]
    },
    {
     "ename": "TypeError",
     "evalue": "'tuple' object does not support item assignment",
     "output_type": "error",
     "traceback": [
      "\u001b[31m---------------------------------------------------------------------------\u001b[39m",
      "\u001b[31mTypeError\u001b[39m                                 Traceback (most recent call last)",
      "\u001b[36mCell\u001b[39m\u001b[36m \u001b[39m\u001b[32mIn[14]\u001b[39m\u001b[32m, line 16\u001b[39m\n\u001b[32m     12\u001b[39m \u001b[38;5;28mprint\u001b[39m(\u001b[33m\"\u001b[39m\u001b[33mAfter changing second element in list:\u001b[39m\u001b[33m\"\u001b[39m, my_list)\n\u001b[32m     14\u001b[39m \u001b[38;5;66;03m# You cannot change elements in a tuple\u001b[39;00m\n\u001b[32m---> \u001b[39m\u001b[32m16\u001b[39m \u001b[43mmy_tuple\u001b[49m\u001b[43m[\u001b[49m\u001b[32;43m1\u001b[39;49m\u001b[43m]\u001b[49m = \u001b[32m200\u001b[39m\n\u001b[32m     17\u001b[39m \u001b[38;5;28mprint\u001b[39m(\u001b[33m\"\u001b[39m\u001b[38;5;130;01m\\n\u001b[39;00m\u001b[33mTrying to change tuple gives an error:\u001b[39m\u001b[33m\"\u001b[39m, e)\n",
      "\u001b[31mTypeError\u001b[39m: 'tuple' object does not support item assignment"
     ]
    }
   ],
   "source": [
    "# Q5 Create a list and tuple in Python, and demonstrate how attempting to change an element works differently for each.\n",
    "\n",
    "# Create a list and a tuple\n",
    "my_list = [10, 20, 30]\n",
    "my_tuple = (10, 20, 30)\n",
    "\n",
    "print(\"Original List:\", my_list)\n",
    "print(\"Original Tuple:\", my_tuple)\n",
    "\n",
    "# You can change elements in a list\n",
    "my_list[1] = 200\n",
    "print(\"After changing second element in list:\", my_list)\n",
    "\n",
    "# You cannot change elements in a tuple\n",
    "\n",
    "my_tuple[1] = 200\n",
    "print(\"\\nTrying to change tuple gives an error:\", e)"
   ]
  },
  {
   "cell_type": "code",
   "execution_count": 12,
   "id": "ceeff3a1-115b-4e22-a0f5-6733413190c6",
   "metadata": {},
   "outputs": [
    {
     "name": "stdout",
     "output_type": "stream",
     "text": [
      "Original to-do list: ['study', 'workout', 'sleep']\n",
      "Updated to-do list: ['study', 'gym', 'sleep']\n",
      "\n",
      "Original birth info: ('Rohit', '2000-11-27', 'Delhi')\n"
     ]
    },
    {
     "ename": "TypeError",
     "evalue": "'tuple' object does not support item assignment",
     "output_type": "error",
     "traceback": [
      "\u001b[31m---------------------------------------------------------------------------\u001b[39m",
      "\u001b[31mTypeError\u001b[39m                                 Traceback (most recent call last)",
      "\u001b[36mCell\u001b[39m\u001b[36m \u001b[39m\u001b[32mIn[12]\u001b[39m\u001b[32m, line 14\u001b[39m\n\u001b[32m     11\u001b[39m birth_info = (\u001b[33m\"\u001b[39m\u001b[33mRohit\u001b[39m\u001b[33m\"\u001b[39m, \u001b[33m\"\u001b[39m\u001b[33m2000-11-27\u001b[39m\u001b[33m\"\u001b[39m, \u001b[33m\"\u001b[39m\u001b[33mDelhi\u001b[39m\u001b[33m\"\u001b[39m)\n\u001b[32m     12\u001b[39m \u001b[38;5;28mprint\u001b[39m(\u001b[33m\"\u001b[39m\u001b[38;5;130;01m\\n\u001b[39;00m\u001b[33mOriginal birth info:\u001b[39m\u001b[33m\"\u001b[39m, birth_info)\n\u001b[32m---> \u001b[39m\u001b[32m14\u001b[39m \u001b[43mbirth_info\u001b[49m\u001b[43m[\u001b[49m\u001b[32;43m1\u001b[39;49m\u001b[43m]\u001b[49m = \u001b[33m\"\u001b[39m\u001b[33m2001-01-01\u001b[39m\u001b[33m\"\u001b[39m  \u001b[38;5;66;03m# trying to change birthdate\u001b[39;00m\n\u001b[32m     15\u001b[39m \u001b[38;5;28mprint\u001b[39m(\u001b[33m\"\u001b[39m\u001b[33mupdated birth informatiom\u001b[39m\u001b[33m\"\u001b[39m, birth_info)\n",
      "\u001b[31mTypeError\u001b[39m: 'tuple' object does not support item assignment"
     ]
    }
   ],
   "source": [
    " # Q6 Write a function to demonstrate the behavior of mutable and immutable arguments.\n",
    "\n",
    "# List: You can update it anytime\n",
    "to_do_list = [\"study\", \"workout\", \"sleep\"]\n",
    "print(\"Original to-do list:\", to_do_list)\n",
    "\n",
    "to_do_list[1] = \"gym\"  # changing 'workout' to 'gym'\n",
    "print(\"Updated to-do list:\", to_do_list)\n",
    "\n",
    "# Tuple: It's fixed\n",
    "birth_info = (\"Rohit\", \"2000-11-27\", \"Delhi\")\n",
    "print(\"\\nOriginal birth info:\", birth_info)\n",
    "\n",
    "birth_info[1] = \"2001-01-01\"  # trying to change birthdate\n",
    "print(\"updated birth informatiom\", birth_info)\n"
   ]
  },
  {
   "cell_type": "code",
   "execution_count": 21,
   "id": "479827cb-a05a-4874-bf91-d2818ebc242c",
   "metadata": {},
   "outputs": [
    {
     "name": "stdout",
     "output_type": "stream",
     "text": [
      "welcome to my calculator\n"
     ]
    },
    {
     "name": "stdin",
     "output_type": "stream",
     "text": [
      "please enter first value:  30000\n",
      "please enter number value:  12\n"
     ]
    },
    {
     "name": "stdout",
     "output_type": "stream",
     "text": [
      "the sum is:  30012.0\n",
      "the diff is:  29988.0\n",
      "the multiply is:  360000.0\n",
      "the divide is:  2500.0\n",
      "average of both number are:  15006.0\n"
     ]
    }
   ],
   "source": [
    "#  Q7. Write a program that performs basic arithmetic operations on two user-input numbers.\n",
    "\n",
    "print(\"welcome to my calculator\")\n",
    "value1 = float(input(\"please enter first value: \"))\n",
    "value2 = float(input(\"please enter number value: \"))\n",
    "total = value1 + value2 \n",
    "diff = value1 - value2\n",
    "multiply = value1 * value2\n",
    "if value2 != 0:\n",
    "    divide = value1 / value2\n",
    "else:\n",
    "    divide = value1 / value2\n",
    "average = (value1 + value2) / 2\n",
    "print(\"the sum is: \",total)\n",
    "print(\"the diff is: \",diff)\n",
    "print(\"the multiply is: \",multiply)\n",
    "print(\"the divide is: \",divide)\n",
    "print(\"average of both number are: \",average)\n"
   ]
  },
  {
   "cell_type": "code",
   "execution_count": 22,
   "id": "759fc280-bf19-4cbd-a1ed-42b2e20979ba",
   "metadata": {},
   "outputs": [
    {
     "name": "stdout",
     "output_type": "stream",
     "text": [
      "Logical Operators Demonstration\n"
     ]
    },
    {
     "name": "stdin",
     "output_type": "stream",
     "text": [
      "Enter the first number:  10000\n",
      "Enter the second number:  500\n"
     ]
    },
    {
     "name": "stdout",
     "output_type": "stream",
     "text": [
      "Both numbers are positive (AND condition is True).\n",
      "At least one number is positive (OR condition is True).\n",
      "First number is NOT negative.\n"
     ]
    }
   ],
   "source": [
    "# Q8. Write a program to demonstrate the use of logical operators.\n",
    "# Program to demonstrate logical operators\n",
    "\n",
    "print(\"Logical Operators Demonstration\")\n",
    "\n",
    "# Take user input\n",
    "num1 = int(input(\"Enter the first number: \"))\n",
    "num2 = int(input(\"Enter the second number: \"))\n",
    "\n",
    "# AND operator\n",
    "if num1 > 0 and num2 > 0:\n",
    "    print(\"Both numbers are positive (AND condition is True).\")\n",
    "else:\n",
    "    print(\"At least one number is not positive (AND condition is False).\")\n",
    "\n",
    "# OR operator\n",
    "if num1 > 0 or num2 > 0:\n",
    "    print(\"At least one number is positive (OR condition is True).\")\n",
    "else:\n",
    "    print(\"Neither number is positive (OR condition is False).\")\n",
    "\n",
    "# NOT operator\n",
    "if not(num1 < 0):\n",
    "    print(\"First number is NOT negative.\")\n",
    "else:\n",
    "    print(\"First number is negative.\")\n"
   ]
  },
  {
   "cell_type": "code",
   "execution_count": 28,
   "id": "0907ce4c-e808-489e-9a0b-9e4790d69c0f",
   "metadata": {},
   "outputs": [
    {
     "name": "stdin",
     "output_type": "stream",
     "text": [
      "Enter something:  1000\n"
     ]
    },
    {
     "name": "stdout",
     "output_type": "stream",
     "text": [
      "String: 1000\n",
      "Integer: 1000\n",
      "Float: 1000.0\n",
      "Boolean: True\n"
     ]
    }
   ],
   "source": [
    "# Q9. Write a Python program to convert user input from string to integer, float, and boolean types.\n",
    "\n",
    "# take input from user\n",
    "value = input(\"Enter something: \")\n",
    "\n",
    "# show as string\n",
    "print(\"String:\", value)\n",
    "\n",
    "# convert to integer\n",
    "print(\"Integer:\", int(value))\n",
    "\n",
    "# convert to float\n",
    "print(\"Float:\", float(value))\n",
    "\n",
    "# convert to boolean\n",
    "print(\"Boolean:\", bool(value))"
   ]
  },
  {
   "cell_type": "code",
   "execution_count": 29,
   "id": "fdd28d20-ef5f-4e92-a046-f3a1251f8a20",
   "metadata": {},
   "outputs": [
    {
     "name": "stdout",
     "output_type": "stream",
     "text": [
      "Original: ['10', '20', '30']\n",
      "Integer: 10 20 30\n",
      "Float: 10.0 20.0 30.0\n",
      "Boolean: True True True\n"
     ]
    }
   ],
   "source": [
    "# 10. Write code to demonstrate type casting with list elements.\n",
    "# make a list\n",
    "\n",
    "my_list = [\"10\", \"20\", \"30\"]\n",
    "\n",
    "print(\"Original:\", my_list)\n",
    "\n",
    "# to integer\n",
    "print(\"Integer:\", int(my_list[0]), int(my_list[1]), int(my_list[2]))\n",
    "\n",
    "# to float\n",
    "print(\"Float:\", float(my_list[0]), float(my_list[1]), float(my_list[2]))\n",
    "\n",
    "# to boolean\n",
    "print(\"Boolean:\", bool(my_list[0]), bool(my_list[1]), bool(my_list[2]))\n"
   ]
  },
  {
   "cell_type": "code",
   "execution_count": 32,
   "id": "8593cf31-b8c3-4d19-91a7-6baa1118a5f3",
   "metadata": {},
   "outputs": [
    {
     "name": "stdin",
     "output_type": "stream",
     "text": [
      "Enter a number:  0\n"
     ]
    },
    {
     "name": "stdout",
     "output_type": "stream",
     "text": [
      "The number is Zero\n"
     ]
    }
   ],
   "source": [
    "#11. Write a program that checks if a number is positive, negative, or zero.\n",
    "\n",
    "# check if number is positive, negative, or zero\n",
    "\n",
    "num = float(input(\"Enter a number: \"))\n",
    "\n",
    "if num > 0:\n",
    "    print(\"The number is Positive\")\n",
    "elif num < 0:\n",
    "    print(\"The number is Negative\")\n",
    "else:\n",
    "    print(\"The number is Zero\")"
   ]
  },
  {
   "cell_type": "code",
   "execution_count": 33,
   "id": "5af1b74a-9d36-457b-a771-a8a23cb8d0ca",
   "metadata": {},
   "outputs": [
    {
     "name": "stdout",
     "output_type": "stream",
     "text": [
      "1\n",
      "2\n",
      "3\n",
      "4\n",
      "5\n",
      "6\n",
      "7\n",
      "8\n",
      "9\n",
      "10\n"
     ]
    }
   ],
   "source": [
    "# 12. Write a for loop to print numbers from 1 to 10.\n",
    "# print numbers from 1 to 10\n",
    "for num in range(1, 11):\n",
    "    print(num)\n"
   ]
  },
  {
   "cell_type": "code",
   "execution_count": 34,
   "id": "789bf8a8-7b05-4a84-8498-35af54ed8109",
   "metadata": {},
   "outputs": [
    {
     "name": "stdout",
     "output_type": "stream",
     "text": [
      "Sum of even numbers from 1 to 50 is 650\n"
     ]
    }
   ],
   "source": [
    "# Q13. Write a Python program to find the sum of all even numbers between 1 and 50.\n",
    "# sum of even numbers from 1 to 50\n",
    "sum = 0\n",
    "for i in range(1, 51):\n",
    "    if i % 2 == 0:\n",
    "        sum = sum + i\n",
    "\n",
    "print(\"Sum of even numbers from 1 to 50 is\", sum)\n"
   ]
  },
  {
   "cell_type": "code",
   "execution_count": 36,
   "id": "7e247d65-99a9-4658-8eab-27f2ad0f4bb8",
   "metadata": {},
   "outputs": [
    {
     "name": "stdin",
     "output_type": "stream",
     "text": [
      "Enter a string:  98\n"
     ]
    },
    {
     "name": "stdout",
     "output_type": "stream",
     "text": [
      "Reversed string is 89\n"
     ]
    }
   ],
   "source": [
    "\n",
    "# Q14. Write a program to reverse a string using a while loop.\n",
    "\n",
    "\n",
    "# reverse a string\n",
    "\n",
    "text = input(\"Enter a string: \")\n",
    "reversed_text = \"\"\n",
    "i = len(text) - 1\n",
    "\n",
    "while i >= 0:\n",
    "    reversed_text = reversed_text + text[i]\n",
    "    i = i - 1\n",
    "\n",
    "print(\"Reversed string is\", reversed_text)\n"
   ]
  },
  {
   "cell_type": "code",
   "execution_count": null,
   "id": "fe9563ee-abe2-4e3d-b044-3cfecc095702",
   "metadata": {},
   "outputs": [],
   "source": [
    " # Q15. Write a Python program to calculate the factorial of a number provided by the user using a while loop.\n",
    "\n",
    "# factorial of a number\n",
    "\n",
    "num = int(input(\"Enter a number: \"))\n",
    "factorial = 1\n",
    "i = 1\n",
    "\n",
    "while i <= num:\n",
    "    factorial = factorial * i\n",
    "    i = i + 1\n",
    "\n",
    "print(\"Factorial of\", num, \"is\", factorial)\n"
   ]
  },
  {
   "cell_type": "code",
   "execution_count": null,
   "id": "b0c0825c-64a1-4ea0-aade-070dc7909a98",
   "metadata": {},
   "outputs": [],
   "source": []
  }
 ],
 "metadata": {
  "kernelspec": {
   "display_name": "Python 3 (ipykernel)",
   "language": "python",
   "name": "python3"
  },
  "language_info": {
   "codemirror_mode": {
    "name": "ipython",
    "version": 3
   },
   "file_extension": ".py",
   "mimetype": "text/x-python",
   "name": "python",
   "nbconvert_exporter": "python",
   "pygments_lexer": "ipython3",
   "version": "3.13.7"
  }
 },
 "nbformat": 4,
 "nbformat_minor": 5
}
